{
 "cells": [
  {
   "cell_type": "markdown",
   "id": "124e5672",
   "metadata": {},
   "source": [
    "# Custom Chatbot Project"
   ]
  },
  {
   "cell_type": "markdown",
   "id": "2a4a94b3",
   "metadata": {},
   "source": [
    "In this project, I used a dataset filled with made-up character profiles created by OpenAI which is provided by Udacity. I picked this dataset because I want to make a tool that acts like an expert and can answer questions about these imaginary characters.\n",
    "\n",
    "To make my tool better at answering questions, I used a technique called Retrieval Augmented Generation without langchain. This method adds extra information from the dataset to the question, helping the model give more accurate and relevant answers.\n",
    "\n",
    "This dataset makes sense because it's all about characters that aren't real. So, it fits with what I'm trying to do – test if the model can give good answers when faced with made-up data or questions that can't be answered well with the data it learned from."
   ]
  },
  {
   "cell_type": "markdown",
   "id": "a63d4c5f",
   "metadata": {},
   "source": [
    "## Data Wrangling\n"
   ]
  },
  {
   "cell_type": "code",
   "execution_count": 1,
   "id": "c69b83a1",
   "metadata": {},
   "outputs": [],
   "source": [
    "import pandas as pd\n",
    "\n",
    "data = pd.read_csv('character_descriptions.csv')"
   ]
  },
  {
   "cell_type": "code",
   "execution_count": 2,
   "id": "0a595980",
   "metadata": {},
   "outputs": [
    {
     "data": {
      "text/html": [
       "<div>\n",
       "<style scoped>\n",
       "    .dataframe tbody tr th:only-of-type {\n",
       "        vertical-align: middle;\n",
       "    }\n",
       "\n",
       "    .dataframe tbody tr th {\n",
       "        vertical-align: top;\n",
       "    }\n",
       "\n",
       "    .dataframe thead th {\n",
       "        text-align: right;\n",
       "    }\n",
       "</style>\n",
       "<table border=\"1\" class=\"dataframe\">\n",
       "  <thead>\n",
       "    <tr style=\"text-align: right;\">\n",
       "      <th></th>\n",
       "      <th>Name</th>\n",
       "      <th>Description</th>\n",
       "      <th>Medium</th>\n",
       "      <th>Setting</th>\n",
       "    </tr>\n",
       "  </thead>\n",
       "  <tbody>\n",
       "    <tr>\n",
       "      <th>0</th>\n",
       "      <td>Emily</td>\n",
       "      <td>A young woman in her early 20s, Emily is an as...</td>\n",
       "      <td>Play</td>\n",
       "      <td>England</td>\n",
       "    </tr>\n",
       "    <tr>\n",
       "      <th>1</th>\n",
       "      <td>Jack</td>\n",
       "      <td>A middle-aged man in his 40s, Jack is a succes...</td>\n",
       "      <td>Play</td>\n",
       "      <td>England</td>\n",
       "    </tr>\n",
       "    <tr>\n",
       "      <th>2</th>\n",
       "      <td>Alice</td>\n",
       "      <td>A woman in her late 30s, Alice is a warm and n...</td>\n",
       "      <td>Play</td>\n",
       "      <td>England</td>\n",
       "    </tr>\n",
       "    <tr>\n",
       "      <th>3</th>\n",
       "      <td>Tom</td>\n",
       "      <td>A man in his 50s, Tom is a retired soldier and...</td>\n",
       "      <td>Play</td>\n",
       "      <td>England</td>\n",
       "    </tr>\n",
       "    <tr>\n",
       "      <th>4</th>\n",
       "      <td>Sarah</td>\n",
       "      <td>A woman in her mid-20s, Sarah is a free-spirit...</td>\n",
       "      <td>Play</td>\n",
       "      <td>England</td>\n",
       "    </tr>\n",
       "  </tbody>\n",
       "</table>\n",
       "</div>"
      ],
      "text/plain": [
       "    Name                                        Description Medium  Setting\n",
       "0  Emily  A young woman in her early 20s, Emily is an as...   Play  England\n",
       "1   Jack  A middle-aged man in his 40s, Jack is a succes...   Play  England\n",
       "2  Alice  A woman in her late 30s, Alice is a warm and n...   Play  England\n",
       "3    Tom  A man in his 50s, Tom is a retired soldier and...   Play  England\n",
       "4  Sarah  A woman in her mid-20s, Sarah is a free-spirit...   Play  England"
      ]
     },
     "execution_count": 2,
     "metadata": {},
     "output_type": "execute_result"
    }
   ],
   "source": [
    "data.head()"
   ]
  },
  {
   "cell_type": "code",
   "execution_count": 3,
   "id": "acb3a9fd",
   "metadata": {},
   "outputs": [
    {
     "name": "stdout",
     "output_type": "stream",
     "text": [
      "England\n",
      "Texas\n",
      "Australia\n",
      "USA\n",
      "Italy\n",
      "Ancient Greece\n"
     ]
    }
   ],
   "source": [
    "unique_values = data['Setting'].unique()\n",
    "\n",
    "for value in unique_values:\n",
    "    print(value)"
   ]
  },
  {
   "cell_type": "code",
   "execution_count": 4,
   "id": "603805df",
   "metadata": {},
   "outputs": [
    {
     "name": "stdout",
     "output_type": "stream",
     "text": [
      "Play\n",
      "Movie\n",
      "Limited Series\n",
      "Musical\n",
      "Reality Show\n",
      "Opera\n",
      "Sitcom\n"
     ]
    }
   ],
   "source": [
    "unique_values = data['Medium'].unique()\n",
    "\n",
    "for value in unique_values:\n",
    "    print(value)"
   ]
  },
  {
   "cell_type": "code",
   "execution_count": 5,
   "id": "771e193a",
   "metadata": {},
   "outputs": [],
   "source": [
    "def concatenate_with_column_names(row):\n",
    "    return ''.join([f\"Actor: {row['Name']} \\n Details of this actor: {row['Description']} \\n Medium or Industry of the actor: {row['Medium']} \\n Country of the actor: {row['Setting']}\"])"
   ]
  },
  {
   "cell_type": "code",
   "execution_count": 6,
   "id": "277c4e18",
   "metadata": {},
   "outputs": [],
   "source": [
    "data['text']= data.apply(concatenate_with_column_names, axis=1)"
   ]
  },
  {
   "cell_type": "code",
   "execution_count": 7,
   "id": "cf2f2d23",
   "metadata": {},
   "outputs": [
    {
     "data": {
      "text/html": [
       "<div>\n",
       "<style scoped>\n",
       "    .dataframe tbody tr th:only-of-type {\n",
       "        vertical-align: middle;\n",
       "    }\n",
       "\n",
       "    .dataframe tbody tr th {\n",
       "        vertical-align: top;\n",
       "    }\n",
       "\n",
       "    .dataframe thead th {\n",
       "        text-align: right;\n",
       "    }\n",
       "</style>\n",
       "<table border=\"1\" class=\"dataframe\">\n",
       "  <thead>\n",
       "    <tr style=\"text-align: right;\">\n",
       "      <th></th>\n",
       "      <th>Name</th>\n",
       "      <th>Description</th>\n",
       "      <th>Medium</th>\n",
       "      <th>Setting</th>\n",
       "      <th>text</th>\n",
       "    </tr>\n",
       "  </thead>\n",
       "  <tbody>\n",
       "    <tr>\n",
       "      <th>0</th>\n",
       "      <td>Emily</td>\n",
       "      <td>A young woman in her early 20s, Emily is an as...</td>\n",
       "      <td>Play</td>\n",
       "      <td>England</td>\n",
       "      <td>Actor: Emily \\n Details of this actor: A young...</td>\n",
       "    </tr>\n",
       "    <tr>\n",
       "      <th>1</th>\n",
       "      <td>Jack</td>\n",
       "      <td>A middle-aged man in his 40s, Jack is a succes...</td>\n",
       "      <td>Play</td>\n",
       "      <td>England</td>\n",
       "      <td>Actor: Jack \\n Details of this actor: A middle...</td>\n",
       "    </tr>\n",
       "    <tr>\n",
       "      <th>2</th>\n",
       "      <td>Alice</td>\n",
       "      <td>A woman in her late 30s, Alice is a warm and n...</td>\n",
       "      <td>Play</td>\n",
       "      <td>England</td>\n",
       "      <td>Actor: Alice \\n Details of this actor: A woman...</td>\n",
       "    </tr>\n",
       "    <tr>\n",
       "      <th>3</th>\n",
       "      <td>Tom</td>\n",
       "      <td>A man in his 50s, Tom is a retired soldier and...</td>\n",
       "      <td>Play</td>\n",
       "      <td>England</td>\n",
       "      <td>Actor: Tom \\n Details of this actor: A man in ...</td>\n",
       "    </tr>\n",
       "    <tr>\n",
       "      <th>4</th>\n",
       "      <td>Sarah</td>\n",
       "      <td>A woman in her mid-20s, Sarah is a free-spirit...</td>\n",
       "      <td>Play</td>\n",
       "      <td>England</td>\n",
       "      <td>Actor: Sarah \\n Details of this actor: A woman...</td>\n",
       "    </tr>\n",
       "  </tbody>\n",
       "</table>\n",
       "</div>"
      ],
      "text/plain": [
       "    Name                                        Description Medium  Setting  \\\n",
       "0  Emily  A young woman in her early 20s, Emily is an as...   Play  England   \n",
       "1   Jack  A middle-aged man in his 40s, Jack is a succes...   Play  England   \n",
       "2  Alice  A woman in her late 30s, Alice is a warm and n...   Play  England   \n",
       "3    Tom  A man in his 50s, Tom is a retired soldier and...   Play  England   \n",
       "4  Sarah  A woman in her mid-20s, Sarah is a free-spirit...   Play  England   \n",
       "\n",
       "                                                text  \n",
       "0  Actor: Emily \\n Details of this actor: A young...  \n",
       "1  Actor: Jack \\n Details of this actor: A middle...  \n",
       "2  Actor: Alice \\n Details of this actor: A woman...  \n",
       "3  Actor: Tom \\n Details of this actor: A man in ...  \n",
       "4  Actor: Sarah \\n Details of this actor: A woman...  "
      ]
     },
     "execution_count": 7,
     "metadata": {},
     "output_type": "execute_result"
    }
   ],
   "source": [
    "data.head(5)"
   ]
  },
  {
   "cell_type": "markdown",
   "id": "9f36df5d",
   "metadata": {},
   "source": [
    "# Model"
   ]
  },
  {
   "cell_type": "code",
   "execution_count": 8,
   "id": "96fdb809",
   "metadata": {},
   "outputs": [],
   "source": [
    "import openai\n",
    "from typing import List, Union, Dict\n",
    "from scipy.spatial.distance import cosine"
   ]
  },
  {
   "cell_type": "code",
   "execution_count": 9,
   "id": "0a3b7200",
   "metadata": {},
   "outputs": [],
   "source": [
    "OPENAI_API_KEY = \"YOUR API KEY\"\n",
    "EMBEDDING_MODEL = 'text-embedding-3-small'\n",
    "COMPLETION_MODEL = 'gpt-3.5-turbo'\n",
    "BATCH_SIZE = 2\n",
    "\n",
    "openai_client = openai.OpenAI(api_key=OPENAI_API_KEY)"
   ]
  },
  {
   "cell_type": "code",
   "execution_count": 10,
   "id": "31c20cb7-5773-42eb-ba76-203cc011d471",
   "metadata": {},
   "outputs": [],
   "source": [
    "def get_embeddings(prompt: Union[str, List[str]], embedding_model: str) -> List[List[float]]:\n",
    "    response = openai_client.embeddings.create(\n",
    "        input=prompt if isinstance(prompt, list) else [prompt],\n",
    "        model=embedding_model\n",
    "    )\n",
    "    return [row.embedding for row in response.data]\n",
    "\n",
    "def create_embeddings(df: pd.DataFrame, embedding_model_name: str = EMBEDDING_MODEL, batch_size: int = BATCH_SIZE) -> List[List[float]]:\n",
    "    embeddings_output = []\n",
    "    for idx in range(0, len(df), batch_size):\n",
    "        batch = df.iloc[idx:idx+batch_size]['text'].tolist()\n",
    "        embeddings = get_embeddings(batch, embedding_model_name)\n",
    "        embeddings_output.extend(embeddings)\n",
    "    return embeddings_output\n"
   ]
  },
  {
   "cell_type": "markdown",
   "id": "ae769871",
   "metadata": {},
   "source": [
    "## Custom Query Completion\n",
    "\n"
   ]
  },
  {
   "cell_type": "code",
   "execution_count": 11,
   "id": "582f0656",
   "metadata": {},
   "outputs": [],
   "source": [
    "def build_simple_prompt(question):\n",
    "    return [\n",
    "        {\n",
    "            'role': 'user',\n",
    "            'content': question\n",
    "        }\n",
    "    ]"
   ]
  },
  {
   "cell_type": "code",
   "execution_count": 12,
   "id": "13f2dcd7",
   "metadata": {},
   "outputs": [],
   "source": [
    "def build_custom_context(question, database_df, n=5):\n",
    "    question_embedding = get_embeddings(question, EMBEDDING_MODEL)[0]\n",
    "    \n",
    "    df = database_df.copy()\n",
    "    df[\"distances\"] = df['embedding'].apply(lambda embedding: cosine(embedding, question_embedding))\n",
    "\n",
    "    df.sort_values(\"distances\", ascending=True, inplace=True)\n",
    "    return df.iloc[:n]['text'].tolist()"
   ]
  },
  {
   "cell_type": "code",
   "execution_count": 13,
   "id": "c403f543",
   "metadata": {},
   "outputs": [],
   "source": [
    "def handle_question(prompt, client, model_name=COMPLETION_MODEL):\n",
    "    response = client.chat.completions.create(\n",
    "        model=model_name,\n",
    "        messages=prompt,\n",
    "        max_tokens=100\n",
    "    )\n",
    "    return response.choices[0].message.content"
   ]
  },
  {
   "cell_type": "code",
   "execution_count": 31,
   "id": "8b6e1f75",
   "metadata": {},
   "outputs": [],
   "source": [
    "def build_custom_prompt(question, database_df):\n",
    "    print(\"\\n \\n Found context :: {} \".format(build_custom_context(question, database_df)))\n",
    "    return [\n",
    "        {\n",
    "            'role': 'system',\n",
    "            'content': \"\"\"\n",
    "                Provide an answer based on the context provided below.\n",
    "                If the question cannot be answered using the provided context, kindly respond with \"I don't know the answer.\"\n",
    "                The information pertains to the 2022/2023 season of the English Premier League.\n",
    "                Each fact is annotated with a date and separated by lines.\n",
    "            Context: \n",
    "                {}\n",
    "            \"\"\".format('\\n\\n'.join(build_custom_context(question, database_df)))\n",
    "        },\n",
    "        {\n",
    "            'role': 'user',\n",
    "            'content': question\n",
    "        }\n",
    "    ]\n"
   ]
  },
  {
   "cell_type": "code",
   "execution_count": 32,
   "id": "74280b92",
   "metadata": {},
   "outputs": [],
   "source": [
    "import ast\n",
    "\n",
    "def convert_embedding(embedding_string):\n",
    "    return ast.literal_eval(embedding_string)"
   ]
  },
  {
   "cell_type": "markdown",
   "id": "1783f146",
   "metadata": {},
   "source": [
    "## Custom Performance Demonstration\n",
    "\n"
   ]
  },
  {
   "cell_type": "markdown",
   "id": "4f11fdc0",
   "metadata": {},
   "source": [
    "### Question 1"
   ]
  },
  {
   "cell_type": "code",
   "execution_count": 33,
   "id": "4901c850",
   "metadata": {},
   "outputs": [
    {
     "name": "stdout",
     "output_type": "stream",
     "text": [
      "Answer without Context: \n",
      " I'm sorry, but I don't have any specific information about Emily or which country she belongs to as it would require personal details that I don't have access to. Can you provide more context or details about Emily?\n",
      "\n",
      " \n",
      " Found context :: [\"Actor: Emily \\n Details of this actor: A young woman in her early 20s, Emily is an aspiring actress and Alice's daughter. She has a bubbly personality and a quick wit, but struggles with self-doubt and insecurity. She's also in a relationship with George. \\n Medium or Industry of the actor: Play \\n Country of the actor: England\", \"Actor: Alice \\n Details of this actor: A woman in her late 30s, Alice is a warm and nurturing mother of two, including Emily. She's kind-hearted and empathetic, but can be overly protective of her children and prone to worrying. She's married to Jack. \\n Medium or Industry of the actor: Play \\n Country of the actor: England\", \"Actor: George \\n Details of this actor: A man in his early 30s, George is a charming and charismatic businessman who is in a relationship with Emily. He's ambitious, confident, and always looking for the next big opportunity. However, he's also prone to bending the rules to get what he wants. \\n Medium or Industry of the actor: Play \\n Country of the actor: England\", \"Actor: Sarah \\n Details of this actor: A woman in her mid-20s, Sarah is a free-spirited artist and Jack's employee. She's creative, unconventional, and passionate about her work. However, she can also be flighty and impulsive at times. \\n Medium or Industry of the actor: Play \\n Country of the actor: England\", \"Actor: Rachel \\n Details of this actor: A woman in her late 20s, Rachel is a shy and introverted librarian who is in a relationship with Tom. She's intelligent, thoughtful, and has a deep love of books. However, she struggles with social anxiety and often feels like an outsider. \\n Medium or Industry of the actor: Play \\n Country of the actor: England\"] \n",
      "\n",
      "Answer with Context: \n",
      " Emily is a young woman in her early 20s who is an aspiring actress in England. She is the daughter of Alice and is in a relationship with George. Emily has a bubbly personality and quick wit but struggles with self-doubt and insecurity.\n"
     ]
    }
   ],
   "source": [
    "question_1 = 'Tell me about Emily and which country she belongs to?'\n",
    "\n",
    "print('Answer without Context: \\n', handle_question(build_simple_prompt(question_1), openai_client))\n",
    "\n",
    "print('\\nAnswer with Context: \\n', handle_question(build_custom_prompt(question_1, data), openai_client))"
   ]
  },
  {
   "cell_type": "markdown",
   "id": "6e86e37c",
   "metadata": {},
   "source": [
    "### Question 2"
   ]
  },
  {
   "cell_type": "code",
   "execution_count": 36,
   "id": "6f646989",
   "metadata": {},
   "outputs": [
    {
     "name": "stdout",
     "output_type": "stream",
     "text": [
      "Answer without Context: \n",
      " John Richards is a retired soldier in his 50s who served in the United States Army for over 25 years. He joined the army straight out of high school and rose through the ranks to become a highly decorated officer. After multiple tours of duty in Iraq and Afghanistan, John decided to retire and settle down in his hometown in Texas.\n",
      "\n",
      "As a retired soldier, John spends his days enjoying his well-earned peaceful retirement. He is an active member of the local veteran community, volunteering his time to\n",
      "\n",
      " \n",
      " Found context :: [\"Actor: Tom \\n Details of this actor: A man in his 50s, Tom is a retired soldier and John's son. He has a no-nonsense approach to life, but is haunted by his experiences in combat and struggles with PTSD. He's also in a relationship with Rachel. \\n Medium or Industry of the actor: Play \\n Country of the actor: England\", \"Actor: John \\n Details of this actor: A man in his 60s, John is a retired professor and Tom's father. He has a dry wit and a love of intellectual debate, but can also be stubborn and set in his ways. \\n Medium or Industry of the actor: Play \\n Country of the actor: England\", \"Actor: Jack \\n Details of this actor: A middle-aged man in his 40s, Jack is a successful businessman and Sarah's boss. He has a no-nonsense attitude, but is fiercely loyal to his friends and family. He's married to Alice. \\n Medium or Industry of the actor: Play \\n Country of the actor: England\", \"Actor: Captain James \\n Details of this actor: The charismatic and dashing captain of the local militia. Captain James is a ladies' man and enjoys flirting with the women of the town. He has a friendly rivalry with Reverend Brown and often teases him about his piousness. \\n Medium or Industry of the actor: Sitcom \\n Country of the actor: USA\", \"Actor: Will \\n Details of this actor: A white man in his early 40s, Will is a successful businessman who's come back to his hometown after many years away. He's confident, charming, and knows how to get what he wants. However, he's also hiding a dark secret from his past that threatens to destroy everything he's worked for. \\n Medium or Industry of the actor: Movie \\n Country of the actor: Texas\"] \n",
      "\n",
      "Answer with Context: \n",
      " Tom is a retired soldier in his 50s from England.\n"
     ]
    }
   ],
   "source": [
    "question_1 = 'Tell me about a retired soldier who is in his 50s and which country he belongs to?'\n",
    "\n",
    "print('Answer without Context: \\n', handle_question(build_simple_prompt(question_1), openai_client))\n",
    "\n",
    "print('\\nAnswer with Context: \\n', handle_question(build_custom_prompt(question_1, data), openai_client))"
   ]
  },
  {
   "cell_type": "markdown",
   "id": "c86176eb-9673-4130-b7a9-b721a6d6d4fd",
   "metadata": {},
   "source": [
    "### Question 3"
   ]
  },
  {
   "cell_type": "code",
   "execution_count": 38,
   "id": "11c07a54",
   "metadata": {},
   "outputs": [
    {
     "name": "stdout",
     "output_type": "stream",
     "text": [
      "Answer without Context: \n",
      " 1. Plácido Domingo - Spain: Domingo is a world-renowned Spanish opera singer known for his versatile voice and magnetic stage presence. He has performed in leading roles at major opera houses around the world and has won numerous awards for his performances.\n",
      "\n",
      "2. Anna Netrebko - Russia: Netrebko is a highly acclaimed Russian operatic soprano known for her powerful and expressive voice. She has performed at leading opera houses in Europe and the United States and has received numerous awards for\n",
      "\n",
      " \n",
      " Found context :: ['Actor: Baron Gustavo \\n Details of this actor: A wealthy and arrogant nobleman who loves to flaunt his wealth and status. Baron Gustavo is competitive and ruthless, and his singing voice is powerful and commanding. He is not above using his influence and resources to get what he wants, regardless of who he hurts in the process. \\n Medium or Industry of the actor: Opera \\n Country of the actor: Italy', 'Actor: Signora Rosa \\n Details of this actor: A mysterious and alluring woman who runs a local apothecary. Signora Rosa is known for her beauty and her magical remedies, which some believe have mystical powers. Her singing voice is hauntingly beautiful and her demeanor is both captivating and enigmatic. \\n Medium or Industry of the actor: Opera \\n Country of the actor: Italy', 'Actor: Prince Lorenzo \\n Details of this actor: A charming and handsome prince who has recently returned from a long journey abroad. Prince Lorenzo is well-traveled and cultured, and his voice is smooth and velvety. He is searching for true love and has his sights set on a particular young woman. \\n Medium or Industry of the actor: Opera \\n Country of the actor: Italy', 'Actor: Francesca \\n Details of this actor: A fiery and passionate young woman who works as a blacksmith. She is strong-willed and independent, and her singing voice is bold and powerful. Francesca has caught the eye of Prince Lorenzo, but she is hesitant to give her heart to a man who comes from such a different world. \\n Medium or Industry of the actor: Opera \\n Country of the actor: Italy', 'Actor: Don Carlo \\n Details of this actor: A charming and charismatic young man who is often the life of the party. Don Carlo is quick-witted and clever, and his singing voice is playful and light. He is friends with Baron Gustavo, but his loyalty is often called into question. He is not above causing mischief and stirring up trouble for his own amusement. \\n Medium or Industry of the actor: Opera \\n Country of the actor: Italy'] \n",
      "\n",
      "Answer with Context: \n",
      " Actor: Baron Gustavo \n",
      "Details: Wealthy and arrogant nobleman with a powerful singing voice.\n",
      "Country: Italy\n",
      "\n",
      "Actor: Signora Rosa \n",
      "Details: Mysterious woman known for her beauty and magical remedies.\n",
      "Country: Italy\n",
      "\n",
      "Actor: Prince Lorenzo \n",
      "Details: Charming prince in search of true love with a smooth singing voice.\n",
      "Country: Italy\n",
      "\n",
      "Actor: Francesca \n",
      "Details: Fiery blacksmith with a bold singing voice.\n",
      "Country: Italy\n",
      "\n",
      "Actor: Don Carlo \n",
      "Details:\n"
     ]
    }
   ],
   "source": [
    "question_1 = 'Tell me about some actors from Opera industry  and which country they belong to?'\n",
    "\n",
    "print('Answer without Context: \\n', handle_question(build_simple_prompt(question_1), openai_client))\n",
    "\n",
    "print('\\nAnswer with Context: \\n', handle_question(build_custom_prompt(question_1, data), openai_client))"
   ]
  },
  {
   "cell_type": "markdown",
   "id": "8b761d53-c3a0-4f8d-8950-8fc8a07b9c88",
   "metadata": {},
   "source": [
    "### Explanation\n",
    "\n",
    " In the first question, the model performs as expected. In the second question, it deviates slightly or hallucinate from the desired response, but with context, the model provides the correct answer. Similarly, in the third question, while the model initially provides information about famous opera singers, it aligns with expectations when given context."
   ]
  },
  {
   "cell_type": "code",
   "execution_count": null,
   "id": "29d960be-8d43-4ff9-80b2-904cf2920446",
   "metadata": {},
   "outputs": [],
   "source": []
  }
 ],
 "metadata": {
  "kernelspec": {
   "display_name": "udacity",
   "language": "python",
   "name": "udacity"
  },
  "language_info": {
   "codemirror_mode": {
    "name": "ipython",
    "version": 3
   },
   "file_extension": ".py",
   "mimetype": "text/x-python",
   "name": "python",
   "nbconvert_exporter": "python",
   "pygments_lexer": "ipython3",
   "version": "3.9.19"
  }
 },
 "nbformat": 4,
 "nbformat_minor": 5
}
